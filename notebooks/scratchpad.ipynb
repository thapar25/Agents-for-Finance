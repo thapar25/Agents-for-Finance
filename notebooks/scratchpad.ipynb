{
 "cells": [
  {
   "cell_type": "markdown",
   "id": "8e25491c",
   "metadata": {},
   "source": [
    "**Assumptions**\n",
    "- A invocation run does not require context from a previous run. No chat history -> No tweaks/edits"
   ]
  },
  {
   "cell_type": "markdown",
   "id": "4b0209c1",
   "metadata": {},
   "source": [
    "**Cheat Sheet for Qualitative Analysis**\n",
    "\n",
    "| Metric / Insight     | Signal To Look For                        |\n",
    "| -------------------- | ----------------------------------------- |\n",
    "| Total Revenue        | Growth trend, seasonal strength/weakness  |\n",
    "| Operating Margin     | Cost control or inflationary pressure     |\n",
    "| Net Profit / EPS     | Health of the business, investor returns  |\n",
    "| Recurring Themes     | Strategic focus areas or persistent risks |\n",
    "| Management Sentiment | Confidence vs. hedging                    |\n",
    "| Forward Guidance     | Directional clues (explicit or subtle)    |\n",
    "| Segment Performance  | What’s winning or underperforming         |\n"
   ]
  },
  {
   "cell_type": "code",
   "execution_count": null,
   "id": "1972e46a",
   "metadata": {},
   "outputs": [],
   "source": [
    "from langchain.chat_models import init_chat_model\n",
    "from dotenv import load_dotenv\n",
    "import os\n",
    "\n",
    "load_dotenv()\n",
    "\n",
    "\n",
    "llm = init_chat_model(\n",
    "    \"gemini-2.0-flash\",\n",
    "    model_provider=\"google_genai\",\n",
    "    temperature=0.2,\n",
    "    api_key=os.getenv(\"GOOGLE_API_KEY\"),\n",
    ")"
   ]
  },
  {
   "cell_type": "code",
   "execution_count": null,
   "id": "d52a9f3f",
   "metadata": {},
   "outputs": [],
   "source": [
    "llm.invoke(\"Who are you?\")"
   ]
  },
  {
   "cell_type": "code",
   "execution_count": null,
   "id": "c61e08ec",
   "metadata": {},
   "outputs": [],
   "source": [
    "from langgraph.prebuilt import create_react_agent\n",
    "from langchain_google_genai import GoogleGenerativeAIEmbeddings\n",
    "from langchain_qdrant import QdrantVectorStore\n",
    "from qdrant_client import QdrantClient\n",
    "\n",
    "embeddings = GoogleGenerativeAIEmbeddings(model=\"models/gemini-embedding-001\")\n",
    "\n",
    "collection_name = \"transcripts\"\n",
    "\n",
    "client = QdrantClient(url=\"http://localhost:6333\")\n",
    "vector_store = QdrantVectorStore(\n",
    "    client=client,\n",
    "    collection_name=collection_name,\n",
    "    embedding=embeddings,\n",
    ")\n",
    "\n",
    "\n",
    "def search_docs(topics_list: list[str]):\n",
    "    \"\"\"Search for a list of metrics/values/figures or general information in the company X's earnings call data.\"\"\"\n",
    "    results = []\n",
    "    for query in topics_list:\n",
    "        result = vector_store.similarity_search(query, k=3)\n",
    "        results.append(\n",
    "            {\n",
    "                \"query\": query,\n",
    "                \"top_results\": [results.page_content for results in result],\n",
    "            }\n",
    "        )\n",
    "    return results\n",
    "\n",
    "\n",
    "agent = create_react_agent(\n",
    "    model=llm,\n",
    "    tools=[search_docs],\n",
    "    debug=True,\n",
    "    prompt=\"You are an expert financial analyst. Use the provided tools to research for a task, and ALWAYS take the step-by-step approach. Reflect after each step to decide whether you have everything you need.\",\n",
    ")"
   ]
  },
  {
   "cell_type": "code",
   "execution_count": null,
   "id": "1294d02c",
   "metadata": {},
   "outputs": [],
   "source": [
    "agent.invoke(\n",
    "    {\n",
    "        \"messages\": {\n",
    "            \"role\": \"user\",\n",
    "            \"content\": \"Analyze the financial reports and transcripts for the past quarters and provide a qualitative forecast for the upcoming quarter. Your forecast must identify key financial trends (e.g., revenue growth, margin pressure), summarize management's stated outlook, and highlight any significant risks or opportunities mentioned.\",\n",
    "        }\n",
    "    }\n",
    ")"
   ]
  },
  {
   "cell_type": "markdown",
   "id": "4b5adab0",
   "metadata": {},
   "source": [
    "# TODO: A robust tool designed to understand quarterly financial reports and extract key financial metrics"
   ]
  }
 ],
 "metadata": {
  "kernelspec": {
   "display_name": "agents-for-finance",
   "language": "python",
   "name": "python3"
  },
  "language_info": {
   "codemirror_mode": {
    "name": "ipython",
    "version": 3
   },
   "file_extension": ".py",
   "mimetype": "text/x-python",
   "name": "python",
   "nbconvert_exporter": "python",
   "pygments_lexer": "ipython3",
   "version": "3.13.0"
  }
 },
 "nbformat": 4,
 "nbformat_minor": 5
}
