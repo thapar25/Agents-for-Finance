{
 "cells": [
  {
   "cell_type": "markdown",
   "id": "bca288e0",
   "metadata": {},
   "source": [
    "Experiment: Incase a document is missing (latest report), can the agent pull in the PDF from a data source?"
   ]
  },
  {
   "cell_type": "code",
   "execution_count": null,
   "id": "35258c0d",
   "metadata": {},
   "outputs": [],
   "source": [
    "from typing import Literal\n",
    "from tavily import TavilyClient\n",
    "from langchain_openai import ChatOpenAI\n",
    "import requests\n",
    "import os\n",
    "from dotenv import load_dotenv\n",
    "import fitz\n",
    "\n",
    "load_dotenv()\n",
    "\n",
    "\n",
    "# embeddings = OpenAIEmbeddings(\n",
    "#     model=\"text-embedding-3-small\",\n",
    "# )\n",
    "\n",
    "# collection_name = \"transcripts\"\n",
    "\n",
    "# client = QdrantClient(url=\"http://localhost:6333\")\n",
    "# vector_store = QdrantVectorStore(\n",
    "#     client=client,\n",
    "#     collection_name=collection_name,\n",
    "#     embedding=embeddings,\n",
    "# )"
   ]
  },
  {
   "cell_type": "code",
   "execution_count": null,
   "id": "ea5f47f2",
   "metadata": {},
   "outputs": [],
   "source": [
    "def internet_search(query: str):\n",
    "    \"\"\"Search the internet to fetch real-time data\"\"\"\n",
    "    tavily_async_client = TavilyClient(api_key=os.environ[\"TAVILY_API_KEY\"])\n",
    "    search_docs = tavily_async_client.search(\n",
    "        query,\n",
    "        include_raw_content=True,\n",
    "        topic=\"finance\",\n",
    "    )\n",
    "    return search_docs\n",
    "\n",
    "\n",
    "def get_financial_data(topic: str, time_quarter: Literal[\"Q1\", \"Q2\", \"Q3\", \"Q4\"]):\n",
    "    \"\"\"Search the knowledge base for information on a topic.\"\"\"\n",
    "    return f\"No financial data found for {topic} with filter = {time_quarter} quarter.\"\n",
    "\n",
    "\n",
    "def save_file(file_url: str):\n",
    "    \"\"\"Save a PDF file to the knowledge base using it's URL\"\"\"\n",
    "    headers = {\n",
    "        \"User-Agent\": \"Mozilla/5.0 (Windows NT 10.0; Win64; x64)\",\n",
    "        \"Accept\": \"application/pdf\",\n",
    "        # \"Referer\": \"https://www.bseindia.com/\",\n",
    "    }\n",
    "\n",
    "    response = requests.get(url=file_url, headers=headers)\n",
    "\n",
    "    if response.status_code == 200:\n",
    "        with open(\"temp.pdf\", \"wb\") as f:\n",
    "            f.write(response.content)\n",
    "\n",
    "        doc = fitz.open(\"temp.pdf\")\n",
    "\n",
    "        text_content = \"\"\n",
    "        for page_num in range(1, len(doc)):  # skipping the first page\n",
    "            page = doc.load_page(page_num)\n",
    "            text_content += page.get_text()\n",
    "\n",
    "        return f\"Document with text preview {text_content[:30]}.... successfully saved.\"\n",
    "\n",
    "    else:\n",
    "        raise Exception(f\"Failed to retrieve PDF. Status code: {response.status_code}\")"
   ]
  },
  {
   "cell_type": "code",
   "execution_count": null,
   "id": "baf1028e",
   "metadata": {},
   "outputs": [],
   "source": [
    "from langgraph.prebuilt import create_react_agent\n",
    "from langgraph.checkpoint.memory import InMemorySaver\n",
    "\n",
    "checkpointer = InMemorySaver()\n",
    "\n",
    "agent = create_react_agent(\n",
    "    prompt=\"\"\"You are an expert financial report generator. If you are asked about a company's financial performance, you will first search the internal knowledgebase for the most accurate data. Incase the knowledge base does not contain a piece of information, you are allowed to use the internet tool to fetch relevant files and save them for future use.\n",
    "    Think step by step.\"\"\",\n",
    "    tools=[\n",
    "        internet_search,\n",
    "        get_financial_data,\n",
    "        save_file,\n",
    "    ],\n",
    "    model=ChatOpenAI(model=\"gpt-4o-mini\", temperature=0.0),\n",
    "    debug=True,\n",
    "    checkpointer=checkpointer,\n",
    ")"
   ]
  },
  {
   "cell_type": "code",
   "execution_count": null,
   "id": "2e220fb1",
   "metadata": {},
   "outputs": [],
   "source": [
    "agent.invoke(\n",
    "    {\n",
    "        \"messages\": [\n",
    "            {\n",
    "                \"role\": \"user\",\n",
    "                \"content\": \"What is the financial performance of TCS in Q1 2023?\",\n",
    "            }\n",
    "        ]\n",
    "    },\n",
    "    config={\"configurable\": {\"thread_id\": \"1\"}},\n",
    ")"
   ]
  }
 ],
 "metadata": {
  "kernelspec": {
   "display_name": "agents-for-finance",
   "language": "python",
   "name": "python3"
  },
  "language_info": {
   "codemirror_mode": {
    "name": "ipython",
    "version": 3
   },
   "file_extension": ".py",
   "mimetype": "text/x-python",
   "name": "python",
   "nbconvert_exporter": "python",
   "pygments_lexer": "ipython3",
   "version": "3.13.0"
  }
 },
 "nbformat": 4,
 "nbformat_minor": 5
}
