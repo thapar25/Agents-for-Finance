{
 "cells": [
  {
   "cell_type": "markdown",
   "id": "ae033155",
   "metadata": {},
   "source": [
    "# Testing YFinance"
   ]
  },
  {
   "cell_type": "code",
   "execution_count": 23,
   "id": "36b7888b",
   "metadata": {},
   "outputs": [],
   "source": [
    "import yfinance as yf\n",
    "\n",
    "ticker = yf.Lookup(\"TCS\").get_all(count=1).index[0]"
   ]
  },
  {
   "cell_type": "code",
   "execution_count": 27,
   "id": "077be66a",
   "metadata": {},
   "outputs": [
    {
     "data": {
      "text/plain": [
       "'TCS.NS'"
      ]
     },
     "execution_count": 27,
     "metadata": {},
     "output_type": "execute_result"
    }
   ],
   "source": [
    "ticker"
   ]
  },
  {
   "cell_type": "code",
   "execution_count": 48,
   "id": "17b0c384",
   "metadata": {},
   "outputs": [
    {
     "name": "stderr",
     "output_type": "stream",
     "text": [
      "TCS.NS: Period '1qtr' is invalid, must be one of: 1d, 5d, 1mo, 3mo, 6mo, 1y, 2y, 5y, 10y, ytd, max\n"
     ]
    },
    {
     "data": {
      "text/html": [
       "<div>\n",
       "<style scoped>\n",
       "    .dataframe tbody tr th:only-of-type {\n",
       "        vertical-align: middle;\n",
       "    }\n",
       "\n",
       "    .dataframe tbody tr th {\n",
       "        vertical-align: top;\n",
       "    }\n",
       "\n",
       "    .dataframe thead th {\n",
       "        text-align: right;\n",
       "    }\n",
       "</style>\n",
       "<table border=\"1\" class=\"dataframe\">\n",
       "  <thead>\n",
       "    <tr style=\"text-align: right;\">\n",
       "      <th></th>\n",
       "      <th>Open</th>\n",
       "      <th>High</th>\n",
       "      <th>Low</th>\n",
       "      <th>Close</th>\n",
       "      <th>Adj Close</th>\n",
       "      <th>Volume</th>\n",
       "    </tr>\n",
       "    <tr>\n",
       "      <th>Date</th>\n",
       "      <th></th>\n",
       "      <th></th>\n",
       "      <th></th>\n",
       "      <th></th>\n",
       "      <th></th>\n",
       "      <th></th>\n",
       "    </tr>\n",
       "  </thead>\n",
       "  <tbody>\n",
       "  </tbody>\n",
       "</table>\n",
       "</div>"
      ],
      "text/plain": [
       "Empty DataFrame\n",
       "Columns: [Open, High, Low, Close, Adj Close, Volume]\n",
       "Index: []"
      ]
     },
     "execution_count": 48,
     "metadata": {},
     "output_type": "execute_result"
    }
   ],
   "source": [
    "yf.Ticker(ticker).history(period=\"1qtr\", interval=\"1mo\")"
   ]
  },
  {
   "cell_type": "markdown",
   "id": "69924753",
   "metadata": {},
   "source": [
    "# Fetching reports"
   ]
  },
  {
   "cell_type": "code",
   "execution_count": 66,
   "id": "89102814",
   "metadata": {},
   "outputs": [],
   "source": [
    "import fitz  # PyMuPDF\n",
    "import requests\n",
    "\n",
    "\n",
    "def parse_pdf_from_url(url):\n",
    "    headers = {\n",
    "        \"User-Agent\": \"Mozilla/5.0 (Windows NT 10.0; Win64; x64)\",\n",
    "        \"Accept\": \"application/pdf\",\n",
    "        \"Referer\": \"https://www.bseindia.com/\",\n",
    "    }\n",
    "\n",
    "    response = requests.get(url=url, headers=headers)\n",
    "\n",
    "    if response.status_code == 200:\n",
    "        with open(\"temp.pdf\", \"wb\") as f:\n",
    "            f.write(response.content)\n",
    "\n",
    "        doc = fitz.open(\"temp.pdf\")\n",
    "\n",
    "        text_content = \"\"\n",
    "        for page_num in range(1, len(doc)):  # skipping the first page\n",
    "            page = doc.load_page(page_num)\n",
    "            text_content += page.get_text()\n",
    "\n",
    "        return text_content\n",
    "\n",
    "    else:\n",
    "        raise Exception(f\"Failed to retrieve PDF. Status code: {response.status_code}\")\n",
    "\n",
    "\n",
    "# Example usage\n",
    "url = \"https://www.bseindia.com/xml-data/corpfiling/AttachHis/9cee0fdb-07a3-4dc6-af7a-40dce51e1348.pdf\"\n",
    "try:\n",
    "    pdf_text = parse_pdf_from_url(url)\n",
    "except Exception as e:\n",
    "    print(e)"
   ]
  },
  {
   "cell_type": "code",
   "execution_count": 67,
   "id": "4478a148",
   "metadata": {},
   "outputs": [],
   "source": [
    "from langchain.text_splitter import RecursiveCharacterTextSplitter\n",
    "\n",
    "speaker_regex = r\"\\n[A-Z][a-zA-Z\\s\\.]*?:\\s*\\n\"\n",
    "\n",
    "splitter = RecursiveCharacterTextSplitter(\n",
    "    chunk_size=1000,\n",
    "    chunk_overlap=500,\n",
    "    separators=[speaker_regex],\n",
    "    is_separator_regex=True,\n",
    "    length_function=len,\n",
    ")"
   ]
  },
  {
   "cell_type": "code",
   "execution_count": 68,
   "id": "9db942a0",
   "metadata": {},
   "outputs": [],
   "source": [
    "chunks = splitter.split_text(pdf_text)"
   ]
  },
  {
   "cell_type": "code",
   "execution_count": 69,
   "id": "af43adf8",
   "metadata": {},
   "outputs": [
    {
     "data": {
      "text/plain": [
       "\"Nehal Shah: \\nThank you, operator. Good evening, and welcome, everyone. Thank \\nyou for joining us today to discuss TCS' financial results for the first \\nquarter of fiscal year FY 2026 that ended on June 30, 2025. This call is \\nbeing webcast through our website and an archive, including the \\ntranscript, will be available on the site for the duration of this quarter. \\nThe financial statements, quarterly fact sheet and press releases are \\nalso available on our website. \\nOur leadership team is present on this call to discuss our results. We \\nhave with us today Mr. K Krithivasan, Chief Executive Officer and \\nManaging Director. \\nK Krithivasan: \\nHello, everyone. \\nNehal Shah: \\nMs. Aarthi Subramanian, Executive Director, President and Chief \\nOperating Officer. \\nAarthi Subramanian:Good evening, everyone. \\nNehal Shah: \\nMr. Samir Seksaria, Chief Financial Officer.\""
      ]
     },
     "execution_count": 69,
     "metadata": {},
     "output_type": "execute_result"
    }
   ],
   "source": [
    "chunks[1]"
   ]
  },
  {
   "cell_type": "code",
   "execution_count": 70,
   "id": "00cbe92d",
   "metadata": {},
   "outputs": [],
   "source": [
    "import re\n",
    "from langchain.docstore.document import Document\n",
    "\n",
    "\n",
    "def extract_speakers_from_chunk(text: str) -> list:\n",
    "    # Match lines that look like \"K Krithivasan:\", \"Nehal Shah:\", etc.\n",
    "    pattern = re.compile(r\"(?:^|\\n)([A-Z][a-zA-Z\\s\\.]{1,50}):(?=\\s)\", re.MULTILINE)\n",
    "    return list(set(pattern.findall(text)))\n",
    "\n",
    "\n",
    "def extract_pages_from_chunk(text: str) -> list:\n",
    "    \"\"\"Extracts all unique page numbers from a chunk.\"\"\"\n",
    "    pattern = re.compile(r\"Page\\s+(\\d+)\\s+of\\s+\\d+\", re.IGNORECASE)\n",
    "    return sorted(set(map(int, pattern.findall(text))))\n",
    "\n",
    "\n",
    "docs = []\n",
    "for chunk in chunks:\n",
    "    speakers = extract_speakers_from_chunk(chunk)\n",
    "    pages = extract_pages_from_chunk(chunk)\n",
    "    docs.append(\n",
    "        Document(\n",
    "            page_content=chunk,\n",
    "            metadata={\"speakers\": speakers, \"pages_referenced\": pages},\n",
    "        )\n",
    "    )"
   ]
  },
  {
   "cell_type": "code",
   "execution_count": 72,
   "id": "69f3e0c3",
   "metadata": {},
   "outputs": [],
   "source": [
    "# from langchain_google_genai import GoogleGenerativeAIEmbeddings\n",
    "\n",
    "# embeddings = GoogleGenerativeAIEmbeddings(model=\"models/gemini-embedding-001\")\n",
    "from langchain_openai import OpenAIEmbeddings\n",
    "\n",
    "from dotenv import load_dotenv\n",
    "\n",
    "load_dotenv()\n",
    "\n",
    "embeddings = OpenAIEmbeddings(\n",
    "    model=\"text-embedding-3-small\",\n",
    ")"
   ]
  },
  {
   "cell_type": "code",
   "execution_count": 73,
   "id": "49be7a3c",
   "metadata": {},
   "outputs": [
    {
     "data": {
      "text/plain": [
       "1536"
      ]
     },
     "execution_count": 73,
     "metadata": {},
     "output_type": "execute_result"
    }
   ],
   "source": [
    "len(embeddings.embed_query(\"hi\"))"
   ]
  },
  {
   "cell_type": "code",
   "execution_count": 74,
   "id": "d4ec8073",
   "metadata": {},
   "outputs": [],
   "source": [
    "from langchain_qdrant import QdrantVectorStore\n",
    "from qdrant_client import QdrantClient\n",
    "from qdrant_client.http.models import Distance, VectorParams\n",
    "\n",
    "\n",
    "collection_name = \"transcripts\"\n",
    "\n",
    "client = QdrantClient(url=\"http://localhost:6333\")\n",
    "\n",
    "client.create_collection(\n",
    "    collection_name=collection_name,\n",
    "    vectors_config=VectorParams(size=1536, distance=Distance.COSINE),\n",
    ")\n",
    "\n",
    "vector_store = QdrantVectorStore(\n",
    "    client=client,\n",
    "    collection_name=collection_name,\n",
    "    embedding=embeddings,\n",
    ")"
   ]
  },
  {
   "cell_type": "code",
   "execution_count": 75,
   "id": "843a52ec",
   "metadata": {},
   "outputs": [],
   "source": [
    "from uuid import uuid4\n",
    "\n",
    "uuids = [str(uuid4()) for _ in range(len(docs))]\n",
    "_ = vector_store.add_documents(documents=docs, ids=uuids)"
   ]
  },
  {
   "cell_type": "code",
   "execution_count": 81,
   "id": "641ad1ef",
   "metadata": {},
   "outputs": [
    {
     "data": {
      "text/plain": [
       "[(Document(metadata={'speakers': ['Moderator', 'Note'], 'pages_referenced': [], '_id': '86dd72d6-4d7f-4111-8dc0-0070665fbfb3', '_collection_name': 'transcripts'}, page_content='Moderator: \\nThank you, members of the management. On behalf of TCS, that \\nconcludes this conference call. Thank you for joining us, and you may \\nnow disconnect your lines. \\n \\nNote:  \\nThis transcript has been edited for readability and does not purport to \\nbe a verbatim record of the proceedings.'),\n",
       "  0.5302013),\n",
       " (Document(metadata={'speakers': ['Ravi Menon', 'Thanks so much. And best of luck. \\nModerator', 'K Krithivasan'], 'pages_referenced': [], '_id': 'b04489a3-379a-4b60-9be3-6d894ab4d12a', '_collection_name': 'transcripts'}, page_content=\"Ravi Menon: \\nOne last question. On the high-tech side, that's where we had seen the \\nspending cut start. Now that seems to be trending up. And this is where \\nwe've also seen some of your peers have to pass on significant \\nproductivity improvements. Looks like you're not seeing any such \\ndemands, right? \\nK Krithivasan: \\nBy and large, we are seeing a growth, with the exception of one or two \\nclients, we’re seeing strong growth in the high-tech segment. \\nRavi Menon:  \\nThanks so much. And best of luck. \\nModerator: \\nThank you. We'll take our next question from the line of Abhishek\"),\n",
       "  0.39973593),\n",
       " (Document(metadata={'speakers': ['Gaurav Rateria', 'Moderator', 'K Krithivasan'], 'pages_referenced': [28], '_id': '813cd5ea-6354-425d-9ec0-a56fbb0add94', '_collection_name': 'transcripts'}, page_content=\"Gaurav Rateria: \\nThank you. \\nTata Consultancy Services Earnings Conference Call \\nJuly 10, 2025, 19:00 hrs IST (09:30 hrs US ET) \\n \\n \\nPage 28 of 28 \\nModerator: \\nThank you. Ladies and gentlemen, we'll take that as the last question \\nfor today. I now hand the conference over to the management for \\nclosing comments. Over to you. \\nK Krithivasan: \\nThank you, operator. In Q1 FY '26, our revenue declined by 3.1% year-\\non-year in constant currency with an operating margin of 24.5% and a \\nnet margin of 20.1%. Our TCV was robust at US$9.44 billion in Q1. \\n \\nWe are closely monitoring developments worldwide and remain \\ncommitted to maintaining strong client relationships, positioning \\nourselves as a strategic partner. \\n \\nI would like to express my gratitude to all TCSers for their hard work \\nand unwavering dedication in realizing both their own potential and that \\nof the company.  \\nWith that, we wrap up our call today. Thank you all for joining us. Thank \\nyou.\"),\n",
       "  0.3965538),\n",
       " (Document(metadata={'speakers': ['Kumar Rakesh', 'Moderator'], 'pages_referenced': [17], '_id': '734730c5-fada-4d5f-af9d-be359e0df5a8', '_collection_name': 'transcripts'}, page_content=\"Moderator: \\nThank you. We'll take our next question from the line of Kumar Rakesh \\nfrom BNP Paribas. Please go ahead. \\nTata Consultancy Services Earnings Conference Call \\nJuly 10, 2025, 19:00 hrs IST (09:30 hrs US ET) \\n \\n \\nPage 17 of 28 \\nKumar Rakesh: \\nHi, good evening and thank you for taking my questions and welcome \\nAarthi to the TCS team. My best wishes. My first question was it appears \\nlike decision-making, which you spoke about, deteriorated towards the \\nend of the quarter. What are the risks to the September quarter?  \\n \\nWhat I'm trying to understand is all the project delays and the pauses \\nwhich happened during the quarter, is it fully reflected in the number \\nwhich we have reported or there's more to come into the September \\nquarter as well?\"),\n",
       "  0.39456674)]"
      ]
     },
     "execution_count": 81,
     "metadata": {},
     "output_type": "execute_result"
    }
   ],
   "source": [
    "vector_store.similarity_search_with_score(\n",
    "    query=\"Moderator: \\nThank you very much.\",\n",
    ")"
   ]
  },
  {
   "cell_type": "code",
   "execution_count": 76,
   "id": "eb2f54ee",
   "metadata": {},
   "outputs": [],
   "source": [
    "s1 = \"\"\"We are expanding to Asia and Europe, with a focus on sustainable practices. Our new product line will be launched in Q3 2024, targeting eco-conscious consumers. We are also investing in AI-driven analytics to enhance customer experience and operational efficiency.\"\"\"\n",
    "s2 = \"\"\"What will be the initiatives to bring in more customers?\"\"\"\n",
    "s3 = \"\"\"Growth strategy and green efforts\"\"\""
   ]
  },
  {
   "cell_type": "code",
   "execution_count": 77,
   "id": "7b198f3f",
   "metadata": {},
   "outputs": [],
   "source": [
    "vector1 = embeddings.embed_query(s1)\n",
    "vector2 = embeddings.embed_query(s2)\n",
    "vector3 = embeddings.embed_query(s3)"
   ]
  },
  {
   "cell_type": "code",
   "execution_count": 78,
   "id": "a13eaa32",
   "metadata": {},
   "outputs": [
    {
     "name": "stdout",
     "output_type": "stream",
     "text": [
      "Cosine similarity between vector1 and vector2: 0.3829831452294622\n",
      "Cosine similarity between vector1 and vector3: 0.4764788957875816\n",
      "Cosine similarity between vector2 and vector3: 0.3798601238376507\n"
     ]
    }
   ],
   "source": [
    "# cosine distances between vectors\n",
    "import numpy as np\n",
    "\n",
    "\n",
    "def cosine_similarity(vec1, vec2):\n",
    "    dot_product = np.dot(vec1, vec2)\n",
    "    norm_vec1 = np.linalg.norm(vec1)\n",
    "    norm_vec2 = np.linalg.norm(vec2)\n",
    "    return dot_product / (norm_vec1 * norm_vec2)\n",
    "\n",
    "\n",
    "similarity_12 = cosine_similarity(vector1, vector2)\n",
    "similarity_13 = cosine_similarity(vector1, vector3)\n",
    "similarity_23 = cosine_similarity(vector2, vector3)\n",
    "\n",
    "print(f\"Cosine similarity between vector1 and vector2: {similarity_12}\")\n",
    "print(f\"Cosine similarity between vector1 and vector3: {similarity_13}\")\n",
    "print(f\"Cosine similarity between vector2 and vector3: {similarity_23}\")"
   ]
  }
 ],
 "metadata": {
  "kernelspec": {
   "display_name": "agents-for-finance",
   "language": "python",
   "name": "python3"
  },
  "language_info": {
   "codemirror_mode": {
    "name": "ipython",
    "version": 3
   },
   "file_extension": ".py",
   "mimetype": "text/x-python",
   "name": "python",
   "nbconvert_exporter": "python",
   "pygments_lexer": "ipython3",
   "version": "3.13.0"
  }
 },
 "nbformat": 4,
 "nbformat_minor": 5
}
