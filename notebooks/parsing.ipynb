{
 "cells": [
  {
   "cell_type": "code",
   "execution_count": null,
   "id": "89102814",
   "metadata": {},
   "outputs": [],
   "source": [
    "import fitz  # PyMuPDF\n",
    "import requests\n",
    "\n",
    "\n",
    "def parse_pdf_from_url(url):\n",
    "    headers = {\n",
    "        \"User-Agent\": \"Mozilla/5.0 (Windows NT 10.0; Win64; x64)\",\n",
    "        \"Accept\": \"application/pdf\",\n",
    "        \"Referer\": \"https://www.bseindia.com/\",\n",
    "    }\n",
    "\n",
    "    response = requests.get(url=url, headers=headers)\n",
    "\n",
    "    if response.status_code == 200:\n",
    "        with open(\"temp.pdf\", \"wb\") as f:\n",
    "            f.write(response.content)\n",
    "\n",
    "        doc = fitz.open(\"temp.pdf\")\n",
    "\n",
    "        text_content = \"\"\n",
    "        for page_num in range(1, len(doc)):  # skipping the first page\n",
    "            page = doc.load_page(page_num)\n",
    "            text_content += page.get_text()\n",
    "\n",
    "        return text_content\n",
    "\n",
    "    else:\n",
    "        raise Exception(f\"Failed to retrieve PDF. Status code: {response.status_code}\")\n",
    "\n",
    "\n",
    "# Example usage\n",
    "url = \"https://www.bseindia.com/xml-data/corpfiling/AttachHis/9cee0fdb-07a3-4dc6-af7a-40dce51e1348.pdf\"\n",
    "try:\n",
    "    pdf_text = parse_pdf_from_url(url)\n",
    "except Exception as e:\n",
    "    print(e)"
   ]
  },
  {
   "cell_type": "code",
   "execution_count": 73,
   "id": "4478a148",
   "metadata": {},
   "outputs": [],
   "source": [
    "from langchain.text_splitter import RecursiveCharacterTextSplitter\n",
    "\n",
    "speaker_regex = r\"\\n[A-Z][a-zA-Z\\s\\.]*?:\\s*\\n\"\n",
    "\n",
    "splitter = RecursiveCharacterTextSplitter(\n",
    "    chunk_size=1000,\n",
    "    chunk_overlap=500,\n",
    "    separators=[speaker_regex],\n",
    "    is_separator_regex=True,\n",
    "    length_function=len,\n",
    ")"
   ]
  },
  {
   "cell_type": "code",
   "execution_count": 74,
   "id": "9db942a0",
   "metadata": {},
   "outputs": [],
   "source": [
    "chunks = splitter.split_text(pdf_text)"
   ]
  },
  {
   "cell_type": "code",
   "execution_count": 75,
   "id": "af43adf8",
   "metadata": {},
   "outputs": [
    {
     "data": {
      "text/plain": [
       "\"Nehal Shah: \\nThank you, operator. Good evening, and welcome, everyone. Thank \\nyou for joining us today to discuss TCS' financial results for the first \\nquarter of fiscal year FY 2026 that ended on June 30, 2025. This call is \\nbeing webcast through our website and an archive, including the \\ntranscript, will be available on the site for the duration of this quarter. \\nThe financial statements, quarterly fact sheet and press releases are \\nalso available on our website. \\nOur leadership team is present on this call to discuss our results. We \\nhave with us today Mr. K Krithivasan, Chief Executive Officer and \\nManaging Director. \\nK Krithivasan: \\nHello, everyone. \\nNehal Shah: \\nMs. Aarthi Subramanian, Executive Director, President and Chief \\nOperating Officer. \\nAarthi Subramanian:Good evening, everyone. \\nNehal Shah: \\nMr. Samir Seksaria, Chief Financial Officer.\""
      ]
     },
     "execution_count": 75,
     "metadata": {},
     "output_type": "execute_result"
    }
   ],
   "source": [
    "chunks[1]"
   ]
  },
  {
   "cell_type": "code",
   "execution_count": null,
   "id": "00cbe92d",
   "metadata": {},
   "outputs": [],
   "source": [
    "import re\n",
    "from langchain.docstore.document import Document\n",
    "\n",
    "\n",
    "def extract_speakers_from_chunk(text: str) -> list:\n",
    "    # Match lines that look like \"K Krithivasan:\", \"Nehal Shah:\", etc.\n",
    "    pattern = re.compile(r\"(?:^|\\n)([A-Z][a-zA-Z\\s\\.]{1,50}):(?=\\s)\", re.MULTILINE)\n",
    "    return list(set(pattern.findall(text)))\n",
    "\n",
    "\n",
    "def extract_pages_from_chunk(text: str) -> list:\n",
    "    \"\"\"Extracts all unique page numbers from a chunk.\"\"\"\n",
    "    pattern = re.compile(r\"Page\\s+(\\d+)\\s+of\\s+\\d+\", re.IGNORECASE)\n",
    "    return sorted(set(map(int, pattern.findall(text))))\n",
    "\n",
    "\n",
    "docs = []\n",
    "for chunk in chunks:\n",
    "    speakers = extract_speakers_from_chunk(chunk)\n",
    "    pages = extract_pages_from_chunk(chunk)\n",
    "    docs.append(\n",
    "        Document(\n",
    "            page_content=chunk,\n",
    "            metadata={\"speakers\": speakers, \"pages_referenced\": pages},\n",
    "        )\n",
    "    )"
   ]
  },
  {
   "cell_type": "code",
   "execution_count": 78,
   "id": "d4ec8073",
   "metadata": {},
   "outputs": [],
   "source": [
    "from langchain_google_genai import GoogleGenerativeAIEmbeddings\n",
    "from langchain_qdrant import QdrantVectorStore\n",
    "from qdrant_client import QdrantClient\n",
    "from qdrant_client.http.models import Distance, VectorParams\n",
    "\n",
    "embeddings = GoogleGenerativeAIEmbeddings(model=\"models/gemini-embedding-001\")\n",
    "\n",
    "collection_name = \"transcripts\"\n",
    "\n",
    "client = QdrantClient(url=\"http://localhost:6333\")\n",
    "\n",
    "client.create_collection(\n",
    "    collection_name=collection_name,\n",
    "    vectors_config=VectorParams(size=3072, distance=Distance.COSINE),\n",
    ")\n",
    "\n",
    "vector_store = QdrantVectorStore(\n",
    "    client=client,\n",
    "    collection_name=collection_name,\n",
    "    embedding=embeddings,\n",
    ")"
   ]
  },
  {
   "cell_type": "code",
   "execution_count": 79,
   "id": "843a52ec",
   "metadata": {},
   "outputs": [],
   "source": [
    "from uuid import uuid4\n",
    "\n",
    "uuids = [str(uuid4()) for _ in range(len(docs))]\n",
    "_ = vector_store.add_documents(documents=docs, ids=uuids)"
   ]
  }
 ],
 "metadata": {
  "kernelspec": {
   "display_name": "agents-for-finance",
   "language": "python",
   "name": "python3"
  },
  "language_info": {
   "codemirror_mode": {
    "name": "ipython",
    "version": 3
   },
   "file_extension": ".py",
   "mimetype": "text/x-python",
   "name": "python",
   "nbconvert_exporter": "python",
   "pygments_lexer": "ipython3",
   "version": "3.13.0"
  }
 },
 "nbformat": 4,
 "nbformat_minor": 5
}
