{
 "cells": [
  {
   "cell_type": "code",
   "execution_count": 7,
   "id": "b7de293f",
   "metadata": {},
   "outputs": [],
   "source": [
    "transcript_urls = [\n",
    "    \"https://www.tcs.com/content/dam/tcs/investor-relations/financial-statements/2024-25/q4/Management%20Commentary/Transcript%20of%20the%20Q4%202024-25%20Earnings%20Conference%20Call%20held%20at%201900%20hrs%20IST%20on%20Apr%2010,%202025.pdf\",\n",
    "    \"https://www.tcs.com/content/dam/tcs/investor-relations/financial-statements/2024-25/q3/Management%20Commentary/Transcript%20of%20the%20Q3%202024-25%20Earnings%20Conference%20Call%20held%20on%20Jan%2009,%202025.pdf\",\n",
    "    \"https://www.tcs.com/content/dam/tcs/investor-relations/financial-statements/2024-25/q2/Management%20Commentary/Transcript%20of%20the%20Q2%202024-25%20Earnings%20Conference%20Call%20held%20on%20Oct%2010,%202024.pdf\",\n",
    "    \"https://www.tcs.com/content/dam/tcs/investor-relations/financial-statements/2024-25/q1/Management%20Commentary/Transcript%20of%20the%20Q1%202024-25%20Earnings%20Conference%20Call%20held%20on%20Jul%2011,%202024.pdf\",\n",
    "    \"https://www.tcs.com/content/dam/tcs/investor-relations/financial-statements/2025-26/q1/Management%20Commentary/Transcript%20of%20the%20Q1%202025-26%20Earnings%20Conference%20Call%20held%20at%201900%20hrs%20IST%20on%20Jul%2010,%202025.pdf\"\n",
    "]\n",
    "\n",
    "press_releases = [\n",
    "    \"https://www.tcs.com/content/dam/tcs/investor-relations/financial-statements/2025-26/q1/IND%20AS/Press%20Release%20-%20INR.pdf\",\n",
    "    \"https://www.tcs.com/content/dam/tcs/investor-relations/financial-statements/2024-25/q1/IND%20AS/Press%20Release%20-%20INR.pdf\",\n",
    "    \"https://www.tcs.com/content/dam/tcs/investor-relations/financial-statements/2024-25/q2/IND%20AS/Press%20Release%20-%20INR.pdf\",\n",
    "    \"https://www.tcs.com/content/dam/tcs/investor-relations/financial-statements/2024-25/q3/IND%20AS/Press%20Release%20-%20INR.pdf\",\n",
    "    \"https://www.tcs.com/content/dam/tcs/investor-relations/financial-statements/2024-25/q4/IND%20AS/Press%20Release%20-%20INR.pdf\",\n",
    "]"
   ]
  },
  {
   "cell_type": "code",
   "execution_count": 9,
   "id": "7e9becde",
   "metadata": {},
   "outputs": [
    {
     "name": "stdout",
     "output_type": "stream",
     "text": [
      "Downloaded: ..\\Transcripts\\Q4_FY2024-25.pdf\n",
      "Downloaded: ..\\Transcripts\\Q3_FY2024-25.pdf\n",
      "Downloaded: ..\\Transcripts\\Q2_FY2024-25.pdf\n",
      "Downloaded: ..\\Transcripts\\Q1_FY2024-25.pdf\n",
      "Downloaded: ..\\Transcripts\\Q1_FY2025-26.pdf\n",
      "Downloaded: ..\\Press Releases\\Q1_FY2025-26.pdf\n",
      "Downloaded: ..\\Press Releases\\Q1_FY2024-25.pdf\n",
      "Downloaded: ..\\Press Releases\\Q2_FY2024-25.pdf\n",
      "Downloaded: ..\\Press Releases\\Q3_FY2024-25.pdf\n",
      "Downloaded: ..\\Press Releases\\Q4_FY2024-25.pdf\n"
     ]
    }
   ],
   "source": [
    "import os\n",
    "import re\n",
    "import requests\n",
    "from pathlib import Path\n",
    "\n",
    "\n",
    "# Function to extract Q and FY from URL\n",
    "def extract_info(url):\n",
    "    match = re.search(r'/(\\d{4}-\\d{2})/(q\\d)/', url, re.IGNORECASE)\n",
    "    if match:\n",
    "        fy = match.group(1)\n",
    "        quarter = match.group(2).upper()\n",
    "        return quarter, f\"FY{fy}\"\n",
    "    else:\n",
    "        raise ValueError(f\"Could not parse fiscal year and quarter from URL: {url}\")\n",
    "\n",
    "# Generic download function\n",
    "def download_pdf(url, save_dir):\n",
    "    quarter, fy = extract_info(url)\n",
    "    filename = f\"{quarter}_{fy}.pdf\"\n",
    "    folder = Path(\"..\") / save_dir\n",
    "    folder.mkdir(exist_ok=True)\n",
    "    filepath = folder / filename\n",
    "\n",
    "    \n",
    "    headers = {\n",
    "        \"User-Agent\": \"Mozilla/5.0 (Windows NT 10.0; Win64; x64)\",\n",
    "        \"Accept\": \"application/pdf\",\n",
    "    }\n",
    "    response = requests.get(url=url, headers=headers)\n",
    "    response.raise_for_status()\n",
    "\n",
    "    with open(filepath, 'wb') as f:\n",
    "        f.write(response.content)\n",
    "\n",
    "    print(f\"Downloaded: {filepath}\")\n",
    "\n",
    "# Download all files\n",
    "for url in transcript_urls:\n",
    "    download_pdf(url, \"Transcripts\")\n",
    "\n",
    "for url in press_releases:\n",
    "    download_pdf(url, \"Press Releases\")\n"
   ]
  }
 ],
 "metadata": {
  "kernelspec": {
   "display_name": "agents-for-finance",
   "language": "python",
   "name": "python3"
  },
  "language_info": {
   "codemirror_mode": {
    "name": "ipython",
    "version": 3
   },
   "file_extension": ".py",
   "mimetype": "text/x-python",
   "name": "python",
   "nbconvert_exporter": "python",
   "pygments_lexer": "ipython3",
   "version": "3.13.0"
  }
 },
 "nbformat": 4,
 "nbformat_minor": 5
}
