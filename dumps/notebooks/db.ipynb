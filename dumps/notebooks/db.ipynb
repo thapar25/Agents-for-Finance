{
 "cells": [
  {
   "cell_type": "code",
   "execution_count": 1,
   "id": "17c35515",
   "metadata": {},
   "outputs": [
    {
     "name": "stdout",
     "output_type": "stream",
     "text": [
      "Connection successful!\n"
     ]
    }
   ],
   "source": [
    "from sqlalchemy.ext.asyncio import create_async_engine\n",
    "import os\n",
    "from dotenv import load_dotenv\n",
    "\n",
    "_ = load_dotenv()\n",
    "\n",
    "username = os.getenv(\"DB_USER\")\n",
    "password = os.getenv(\"DB_PASSWORD\")\n",
    "host = os.getenv(\"DB_HOST\", \"localhost\")\n",
    "database = os.getenv(\"DB_NAME\")\n",
    "\n",
    "# Create the connection string\n",
    "connection_string = f\"mysql+aiomysql://{username}:{password}@{host}/{database}\"\n",
    "\n",
    "# Create an engine instance\n",
    "engine = create_async_engine(connection_string)\n",
    "\n",
    "try:\n",
    "    # Test the connection\n",
    "    async with engine.connect() as connection:\n",
    "        print(\"Connection successful!\")\n",
    "except Exception as e:\n",
    "    print(f\"Error connecting to database: {e}\")"
   ]
  }
 ],
 "metadata": {
  "kernelspec": {
   "display_name": "agents-for-finance",
   "language": "python",
   "name": "python3"
  },
  "language_info": {
   "codemirror_mode": {
    "name": "ipython",
    "version": 3
   },
   "file_extension": ".py",
   "mimetype": "text/x-python",
   "name": "python",
   "nbconvert_exporter": "python",
   "pygments_lexer": "ipython3",
   "version": "3.13.0"
  }
 },
 "nbformat": 4,
 "nbformat_minor": 5
}
